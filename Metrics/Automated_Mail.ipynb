{
  "nbformat": 4,
  "nbformat_minor": 0,
  "metadata": {
    "colab": {
      "provenance": [],
      "authorship_tag": "ABX9TyN5G30fKDo7ny+nhgiWSxwr",
      "include_colab_link": true
    },
    "kernelspec": {
      "name": "python3",
      "display_name": "Python 3"
    },
    "language_info": {
      "name": "python"
    }
  },
  "cells": [
    {
      "cell_type": "markdown",
      "metadata": {
        "id": "view-in-github",
        "colab_type": "text"
      },
      "source": [
        "<a href=\"https://colab.research.google.com/github/advik-7/Automated-workflow-for-BPM-BPO/blob/main/Automated_Mail.ipynb\" target=\"_parent\"><img src=\"https://colab.research.google.com/assets/colab-badge.svg\" alt=\"Open In Colab\"/></a>"
      ]
    },
    {
      "cell_type": "markdown",
      "source": [
        "# DO not TOuch this code"
      ],
      "metadata": {
        "id": "nqy30zu2CYGh"
      }
    },
    {
      "cell_type": "code",
      "source": [
        "!pip install python-dotenv"
      ],
      "metadata": {
        "colab": {
          "base_uri": "https://localhost:8080/"
        },
        "id": "FrjHKpa6_IeX",
        "outputId": "6faf75d8-9830-43eb-c7e8-03be09d17aa1"
      },
      "execution_count": 2,
      "outputs": [
        {
          "output_type": "stream",
          "name": "stdout",
          "text": [
            "Collecting python-dotenv\n",
            "  Downloading python_dotenv-1.0.1-py3-none-any.whl.metadata (23 kB)\n",
            "Downloading python_dotenv-1.0.1-py3-none-any.whl (19 kB)\n",
            "Installing collected packages: python-dotenv\n",
            "Successfully installed python-dotenv-1.0.1\n"
          ]
        }
      ]
    },
    {
      "cell_type": "code",
      "source": [
        "!pip install gradio"
      ],
      "metadata": {
        "colab": {
          "base_uri": "https://localhost:8080/"
        },
        "id": "vUFwWsli_d83",
        "outputId": "90e22056-a44e-403a-9476-7e1852fd16b9"
      },
      "execution_count": 4,
      "outputs": [
        {
          "output_type": "stream",
          "name": "stdout",
          "text": [
            "\u001b[33mWARNING: Retrying (Retry(total=4, connect=None, read=None, redirect=None, status=None)) after connection broken by 'ProtocolError('Connection aborted.', RemoteDisconnected('Remote end closed connection without response'))': /simple/gradio/\u001b[0m\u001b[33m\n",
            "\u001b[0mCollecting gradio\n",
            "  Downloading gradio-5.7.1-py3-none-any.whl.metadata (16 kB)\n",
            "Collecting aiofiles<24.0,>=22.0 (from gradio)\n",
            "  Downloading aiofiles-23.2.1-py3-none-any.whl.metadata (9.7 kB)\n",
            "Requirement already satisfied: anyio<5.0,>=3.0 in /usr/local/lib/python3.10/dist-packages (from gradio) (3.7.1)\n",
            "Collecting fastapi<1.0,>=0.115.2 (from gradio)\n",
            "  Downloading fastapi-0.115.6-py3-none-any.whl.metadata (27 kB)\n",
            "Collecting ffmpy (from gradio)\n",
            "  Downloading ffmpy-0.4.0-py3-none-any.whl.metadata (2.9 kB)\n",
            "Collecting gradio-client==1.5.0 (from gradio)\n",
            "  Downloading gradio_client-1.5.0-py3-none-any.whl.metadata (7.1 kB)\n",
            "Requirement already satisfied: httpx>=0.24.1 in /usr/local/lib/python3.10/dist-packages (from gradio) (0.27.2)\n",
            "Requirement already satisfied: huggingface-hub>=0.25.1 in /usr/local/lib/python3.10/dist-packages (from gradio) (0.26.2)\n",
            "Requirement already satisfied: jinja2<4.0 in /usr/local/lib/python3.10/dist-packages (from gradio) (3.1.4)\n",
            "Collecting markupsafe~=2.0 (from gradio)\n",
            "  Downloading MarkupSafe-2.1.5-cp310-cp310-manylinux_2_17_x86_64.manylinux2014_x86_64.whl.metadata (3.0 kB)\n",
            "Requirement already satisfied: numpy<3.0,>=1.0 in /usr/local/lib/python3.10/dist-packages (from gradio) (1.26.4)\n",
            "Requirement already satisfied: orjson~=3.0 in /usr/local/lib/python3.10/dist-packages (from gradio) (3.10.11)\n",
            "Requirement already satisfied: packaging in /usr/local/lib/python3.10/dist-packages (from gradio) (24.2)\n",
            "Requirement already satisfied: pandas<3.0,>=1.0 in /usr/local/lib/python3.10/dist-packages (from gradio) (2.2.2)\n",
            "Requirement already satisfied: pillow<12.0,>=8.0 in /usr/local/lib/python3.10/dist-packages (from gradio) (11.0.0)\n",
            "Requirement already satisfied: pydantic>=2.0 in /usr/local/lib/python3.10/dist-packages (from gradio) (2.9.2)\n",
            "Collecting pydub (from gradio)\n",
            "  Downloading pydub-0.25.1-py2.py3-none-any.whl.metadata (1.4 kB)\n",
            "Collecting python-multipart==0.0.12 (from gradio)\n",
            "  Downloading python_multipart-0.0.12-py3-none-any.whl.metadata (1.9 kB)\n",
            "Requirement already satisfied: pyyaml<7.0,>=5.0 in /usr/local/lib/python3.10/dist-packages (from gradio) (6.0.2)\n",
            "Collecting ruff>=0.2.2 (from gradio)\n",
            "  Downloading ruff-0.8.1-py3-none-manylinux_2_17_x86_64.manylinux2014_x86_64.whl.metadata (25 kB)\n",
            "Collecting safehttpx<1.0,>=0.1.1 (from gradio)\n",
            "  Downloading safehttpx-0.1.6-py3-none-any.whl.metadata (4.2 kB)\n",
            "Collecting semantic-version~=2.0 (from gradio)\n",
            "  Downloading semantic_version-2.10.0-py2.py3-none-any.whl.metadata (9.7 kB)\n",
            "Collecting starlette<1.0,>=0.40.0 (from gradio)\n",
            "  Downloading starlette-0.41.3-py3-none-any.whl.metadata (6.0 kB)\n",
            "Collecting tomlkit==0.12.0 (from gradio)\n",
            "  Downloading tomlkit-0.12.0-py3-none-any.whl.metadata (2.7 kB)\n",
            "Requirement already satisfied: typer<1.0,>=0.12 in /usr/local/lib/python3.10/dist-packages (from gradio) (0.13.0)\n",
            "Requirement already satisfied: typing-extensions~=4.0 in /usr/local/lib/python3.10/dist-packages (from gradio) (4.12.2)\n",
            "Collecting uvicorn>=0.14.0 (from gradio)\n",
            "  Downloading uvicorn-0.32.1-py3-none-any.whl.metadata (6.6 kB)\n",
            "Requirement already satisfied: fsspec in /usr/local/lib/python3.10/dist-packages (from gradio-client==1.5.0->gradio) (2024.10.0)\n",
            "Collecting websockets<13.0,>=10.0 (from gradio-client==1.5.0->gradio)\n",
            "  Downloading websockets-12.0-cp310-cp310-manylinux_2_5_x86_64.manylinux1_x86_64.manylinux_2_17_x86_64.manylinux2014_x86_64.whl.metadata (6.6 kB)\n",
            "Requirement already satisfied: idna>=2.8 in /usr/local/lib/python3.10/dist-packages (from anyio<5.0,>=3.0->gradio) (3.10)\n",
            "Requirement already satisfied: sniffio>=1.1 in /usr/local/lib/python3.10/dist-packages (from anyio<5.0,>=3.0->gradio) (1.3.1)\n",
            "Requirement already satisfied: exceptiongroup in /usr/local/lib/python3.10/dist-packages (from anyio<5.0,>=3.0->gradio) (1.2.2)\n",
            "Requirement already satisfied: certifi in /usr/local/lib/python3.10/dist-packages (from httpx>=0.24.1->gradio) (2024.8.30)\n",
            "Requirement already satisfied: httpcore==1.* in /usr/local/lib/python3.10/dist-packages (from httpx>=0.24.1->gradio) (1.0.7)\n",
            "Requirement already satisfied: h11<0.15,>=0.13 in /usr/local/lib/python3.10/dist-packages (from httpcore==1.*->httpx>=0.24.1->gradio) (0.14.0)\n",
            "Requirement already satisfied: filelock in /usr/local/lib/python3.10/dist-packages (from huggingface-hub>=0.25.1->gradio) (3.16.1)\n",
            "Requirement already satisfied: requests in /usr/local/lib/python3.10/dist-packages (from huggingface-hub>=0.25.1->gradio) (2.32.3)\n",
            "Requirement already satisfied: tqdm>=4.42.1 in /usr/local/lib/python3.10/dist-packages (from huggingface-hub>=0.25.1->gradio) (4.66.6)\n",
            "Requirement already satisfied: python-dateutil>=2.8.2 in /usr/local/lib/python3.10/dist-packages (from pandas<3.0,>=1.0->gradio) (2.8.2)\n",
            "Requirement already satisfied: pytz>=2020.1 in /usr/local/lib/python3.10/dist-packages (from pandas<3.0,>=1.0->gradio) (2024.2)\n",
            "Requirement already satisfied: tzdata>=2022.7 in /usr/local/lib/python3.10/dist-packages (from pandas<3.0,>=1.0->gradio) (2024.2)\n",
            "Requirement already satisfied: annotated-types>=0.6.0 in /usr/local/lib/python3.10/dist-packages (from pydantic>=2.0->gradio) (0.7.0)\n",
            "Requirement already satisfied: pydantic-core==2.23.4 in /usr/local/lib/python3.10/dist-packages (from pydantic>=2.0->gradio) (2.23.4)\n",
            "Requirement already satisfied: click>=8.0.0 in /usr/local/lib/python3.10/dist-packages (from typer<1.0,>=0.12->gradio) (8.1.7)\n",
            "Requirement already satisfied: shellingham>=1.3.0 in /usr/local/lib/python3.10/dist-packages (from typer<1.0,>=0.12->gradio) (1.5.4)\n",
            "Requirement already satisfied: rich>=10.11.0 in /usr/local/lib/python3.10/dist-packages (from typer<1.0,>=0.12->gradio) (13.9.4)\n",
            "Requirement already satisfied: six>=1.5 in /usr/local/lib/python3.10/dist-packages (from python-dateutil>=2.8.2->pandas<3.0,>=1.0->gradio) (1.16.0)\n",
            "Requirement already satisfied: markdown-it-py>=2.2.0 in /usr/local/lib/python3.10/dist-packages (from rich>=10.11.0->typer<1.0,>=0.12->gradio) (3.0.0)\n",
            "Requirement already satisfied: pygments<3.0.0,>=2.13.0 in /usr/local/lib/python3.10/dist-packages (from rich>=10.11.0->typer<1.0,>=0.12->gradio) (2.18.0)\n",
            "Requirement already satisfied: charset-normalizer<4,>=2 in /usr/local/lib/python3.10/dist-packages (from requests->huggingface-hub>=0.25.1->gradio) (3.4.0)\n",
            "Requirement already satisfied: urllib3<3,>=1.21.1 in /usr/local/lib/python3.10/dist-packages (from requests->huggingface-hub>=0.25.1->gradio) (2.2.3)\n",
            "Requirement already satisfied: mdurl~=0.1 in /usr/local/lib/python3.10/dist-packages (from markdown-it-py>=2.2.0->rich>=10.11.0->typer<1.0,>=0.12->gradio) (0.1.2)\n",
            "Downloading gradio-5.7.1-py3-none-any.whl (57.1 MB)\n",
            "\u001b[2K   \u001b[90m━━━━━━━━━━━━━━━━━━━━━━━━━━━━━━━━━━━━━━━━\u001b[0m \u001b[32m57.1/57.1 MB\u001b[0m \u001b[31m15.5 MB/s\u001b[0m eta \u001b[36m0:00:00\u001b[0m\n",
            "\u001b[?25hDownloading gradio_client-1.5.0-py3-none-any.whl (320 kB)\n",
            "\u001b[2K   \u001b[90m━━━━━━━━━━━━━━━━━━━━━━━━━━━━━━━━━━━━━━━━\u001b[0m \u001b[32m320.1/320.1 kB\u001b[0m \u001b[31m21.5 MB/s\u001b[0m eta \u001b[36m0:00:00\u001b[0m\n",
            "\u001b[?25hDownloading python_multipart-0.0.12-py3-none-any.whl (23 kB)\n",
            "Downloading tomlkit-0.12.0-py3-none-any.whl (37 kB)\n",
            "Downloading aiofiles-23.2.1-py3-none-any.whl (15 kB)\n",
            "Downloading fastapi-0.115.6-py3-none-any.whl (94 kB)\n",
            "\u001b[2K   \u001b[90m━━━━━━━━━━━━━━━━━━━━━━━━━━━━━━━━━━━━━━━━\u001b[0m \u001b[32m94.8/94.8 kB\u001b[0m \u001b[31m6.5 MB/s\u001b[0m eta \u001b[36m0:00:00\u001b[0m\n",
            "\u001b[?25hDownloading MarkupSafe-2.1.5-cp310-cp310-manylinux_2_17_x86_64.manylinux2014_x86_64.whl (25 kB)\n",
            "Downloading ruff-0.8.1-py3-none-manylinux_2_17_x86_64.manylinux2014_x86_64.whl (11.2 MB)\n",
            "\u001b[2K   \u001b[90m━━━━━━━━━━━━━━━━━━━━━━━━━━━━━━━━━━━━━━━━\u001b[0m \u001b[32m11.2/11.2 MB\u001b[0m \u001b[31m100.8 MB/s\u001b[0m eta \u001b[36m0:00:00\u001b[0m\n",
            "\u001b[?25hDownloading safehttpx-0.1.6-py3-none-any.whl (8.7 kB)\n",
            "Downloading semantic_version-2.10.0-py2.py3-none-any.whl (15 kB)\n",
            "Downloading starlette-0.41.3-py3-none-any.whl (73 kB)\n",
            "\u001b[2K   \u001b[90m━━━━━━━━━━━━━━━━━━━━━━━━━━━━━━━━━━━━━━━━\u001b[0m \u001b[32m73.2/73.2 kB\u001b[0m \u001b[31m4.9 MB/s\u001b[0m eta \u001b[36m0:00:00\u001b[0m\n",
            "\u001b[?25hDownloading uvicorn-0.32.1-py3-none-any.whl (63 kB)\n",
            "\u001b[2K   \u001b[90m━━━━━━━━━━━━━━━━━━━━━━━━━━━━━━━━━━━━━━━━\u001b[0m \u001b[32m63.8/63.8 kB\u001b[0m \u001b[31m5.1 MB/s\u001b[0m eta \u001b[36m0:00:00\u001b[0m\n",
            "\u001b[?25hDownloading ffmpy-0.4.0-py3-none-any.whl (5.8 kB)\n",
            "Downloading pydub-0.25.1-py2.py3-none-any.whl (32 kB)\n",
            "Downloading websockets-12.0-cp310-cp310-manylinux_2_5_x86_64.manylinux1_x86_64.manylinux_2_17_x86_64.manylinux2014_x86_64.whl (130 kB)\n",
            "\u001b[2K   \u001b[90m━━━━━━━━━━━━━━━━━━━━━━━━━━━━━━━━━━━━━━━━\u001b[0m \u001b[32m130.2/130.2 kB\u001b[0m \u001b[31m11.3 MB/s\u001b[0m eta \u001b[36m0:00:00\u001b[0m\n",
            "\u001b[?25hInstalling collected packages: pydub, websockets, uvicorn, tomlkit, semantic-version, ruff, python-multipart, markupsafe, ffmpy, aiofiles, starlette, safehttpx, gradio-client, fastapi, gradio\n",
            "  Attempting uninstall: markupsafe\n",
            "    Found existing installation: MarkupSafe 3.0.2\n",
            "    Uninstalling MarkupSafe-3.0.2:\n",
            "      Successfully uninstalled MarkupSafe-3.0.2\n",
            "Successfully installed aiofiles-23.2.1 fastapi-0.115.6 ffmpy-0.4.0 gradio-5.7.1 gradio-client-1.5.0 markupsafe-2.1.5 pydub-0.25.1 python-multipart-0.0.12 ruff-0.8.1 safehttpx-0.1.6 semantic-version-2.10.0 starlette-0.41.3 tomlkit-0.12.0 uvicorn-0.32.1 websockets-12.0\n"
          ]
        }
      ]
    },
    {
      "cell_type": "code",
      "execution_count": 7,
      "metadata": {
        "colab": {
          "base_uri": "https://localhost:8080/",
          "height": 680
        },
        "id": "fHmz8dF3-7jF",
        "outputId": "cf2c8d3f-37d3-4125-a7b3-9f1ce18eec6b"
      },
      "outputs": [
        {
          "output_type": "stream",
          "name": "stdout",
          "text": [
            "Connecting to email server...\n",
            "Found 1 unread emails.\n",
            "Running Gradio in a Colab notebook requires sharing enabled. Automatically setting `share=True` (you can turn this off by setting `share=False` in `launch()` explicitly).\n",
            "\n",
            "Colab notebook detected. To show errors in colab notebook, set debug=True in launch()\n",
            "* Running on public URL: https://f298bbc3f919f02a88.gradio.live\n",
            "\n",
            "This share link expires in 72 hours. For free permanent hosting and GPU upgrades, run `gradio deploy` from the terminal in the working directory to deploy to Hugging Face Spaces (https://huggingface.co/spaces)\n"
          ]
        },
        {
          "output_type": "display_data",
          "data": {
            "text/plain": [
              "<IPython.core.display.HTML object>"
            ],
            "text/html": [
              "<div><iframe src=\"https://f298bbc3f919f02a88.gradio.live\" width=\"100%\" height=\"500\" allow=\"autoplay; camera; microphone; clipboard-read; clipboard-write;\" frameborder=\"0\" allowfullscreen></iframe></div>"
            ]
          },
          "metadata": {}
        }
      ],
      "source": [
        "import openai\n",
        "import imaplib\n",
        "import smtplib\n",
        "from email.message import EmailMessage\n",
        "from email.header import decode_header\n",
        "import email as email_lib\n",
        "import os\n",
        "from dotenv import load_dotenv\n",
        "import re\n",
        "import gradio as gr\n",
        "from datetime import datetime, timedelta\n",
        "\n",
        "# Load environment variables\n",
        "load_dotenv(dotenv_path=\"pass.env\")\n",
        "\n",
        "# Email credentials\n",
        "imap_host = \"imap.gmail.com\"\n",
        "smtp_host = \"smtp.gmail.com\"\n",
        "email_user = os.getenv(\"EMAIL_USER\")\n",
        "email_pass = os.getenv(\"EMAIL_PASS\")\n",
        "openai_api_key = os.getenv(\"OPENAI_API_KEY\")\n",
        "\n",
        "# Set OpenAI API key securely\n",
        "openai.api_key = openai_api_key\n",
        "\n",
        "def generate_reply(email_content):\n",
        "    \"\"\"\n",
        "    Generate a reply using OpenAI's language model.\n",
        "    \"\"\"\n",
        "    prompt = f\"Reply to this email:\\n\\n{email_content}\"\n",
        "    response = openai.Completion.create(\n",
        "        engine=\"text-davinci-003\",  # Use a model that fits your requirements\n",
        "        prompt=prompt,\n",
        "        max_tokens=150,\n",
        "        n=1,\n",
        "        stop=None,\n",
        "        temperature=0.7,\n",
        "    )\n",
        "    reply = response.choices[0].text.strip()\n",
        "    print(\"Generated reply:\", reply)  # Debug print for generated reply\n",
        "    return reply\n",
        "\n",
        "# Function to fetch unread emails from the last 7 days\n",
        "def fetch_unread_emails():\n",
        "    try:\n",
        "        print(\"Connecting to email server...\")\n",
        "        mail = imaplib.IMAP4_SSL(imap_host)\n",
        "        mail.login(email_user, email_pass)\n",
        "        mail.select(\"inbox\")\n",
        "\n",
        "        seven_days_ago = (datetime.now() - timedelta(days=7)).strftime(\"%d-%b-%Y\")\n",
        "        status, messages = mail.search(None, f'UNSEEN SINCE {seven_days_ago}')\n",
        "        if status != 'OK':\n",
        "            print(\"Error searching for emails:\", status)\n",
        "            return []\n",
        "\n",
        "        email_ids = messages[0].split()\n",
        "        print(f\"Found {len(email_ids)} unread emails.\")\n",
        "\n",
        "        if not email_ids:\n",
        "            return []\n",
        "\n",
        "        emails = []\n",
        "        for email_id in email_ids:\n",
        "            status, msg_data = mail.fetch(email_id, \"(RFC822)\")\n",
        "            if status != 'OK':\n",
        "                print(f\"Error fetching email {email_id}: {status}\")\n",
        "                continue\n",
        "\n",
        "            for response_part in msg_data:\n",
        "                if isinstance(response_part, tuple):\n",
        "                    msg = email_lib.message_from_bytes(response_part[1])\n",
        "                    subject, encoding = decode_header(msg[\"Subject\"])[0]\n",
        "                    if isinstance(subject, bytes):\n",
        "                        subject = subject.decode(encoding if encoding else \"utf-8\", errors=\"ignore\")\n",
        "                    else:\n",
        "                        subject = subject or \"No Subject\"\n",
        "\n",
        "                    from_ = msg.get(\"From\")\n",
        "                    if \"<\" in from_ and \">\" in from_:\n",
        "                        from_email = re.search(r\"<(.+?)>\", from_).group(1)\n",
        "                    else:\n",
        "                        from_email = from_\n",
        "\n",
        "                    body = None\n",
        "                    if msg.is_multipart():\n",
        "                        for part in msg.walk():\n",
        "                            content_type = part.get_content_type()\n",
        "                            if content_type == \"text/plain\":\n",
        "                                body = part.get_payload(decode=True).decode(errors=\"ignore\")\n",
        "                                break\n",
        "                    else:\n",
        "                        body = msg.get_payload(decode=True).decode(errors=\"ignore\")\n",
        "\n",
        "                    body = body or \"No content available\"\n",
        "                    emails.append({\"subject\": subject, \"from\": from_email, \"body\": body})\n",
        "\n",
        "        mail.logout()\n",
        "        return emails\n",
        "\n",
        "    except Exception as e:\n",
        "        print(f\"Error fetching emails: {str(e)}\")\n",
        "        return []\n",
        "\n",
        "# Function to send a reply\n",
        "def send_reply(to_email, original_subject, reply_content):\n",
        "    try:\n",
        "        print(f\"Sending reply to {to_email}...\")\n",
        "        with smtplib.SMTP_SSL(smtp_host, 465) as server:\n",
        "            server.login(email_user, email_pass)\n",
        "            msg = EmailMessage()\n",
        "            msg[\"From\"] = email_user\n",
        "            msg[\"To\"] = to_email\n",
        "            msg[\"Subject\"] = f\"Re: {original_subject}\"\n",
        "            msg.set_content(reply_content)\n",
        "\n",
        "            server.send_message(msg)\n",
        "            print(f\"Reply sent to {to_email}.\")\n",
        "    except Exception as e:\n",
        "        print(f\"Error sending reply to {to_email}: {str(e)}\")\n",
        "\n",
        "# Gradio interface function to show emails and generate replies\n",
        "def email_interface():\n",
        "    unread_emails = fetch_unread_emails()\n",
        "    if not unread_emails:\n",
        "        return gr.Interface(fn=lambda: \"No unread emails found.\", inputs=[], outputs=\"text\", title=\"Email Auto-Reply System\")\n",
        "\n",
        "    email_options = [f\"{email['subject']} from {email['from']}\" for email in unread_emails]\n",
        "\n",
        "    selected_email = gr.Dropdown(choices=email_options, label=\"Select an Email\")\n",
        "\n",
        "    def process_selected_email(selected):\n",
        "        email_index = next(i for i, v in enumerate([(email[\"subject\"], email[\"from\"]) for email in unread_emails]) if f\"{v[0]} from {v[1]}\" == selected)\n",
        "        email_to_reply = unread_emails[email_index]\n",
        "        reply_content = generate_reply(email_to_reply[\"body\"])\n",
        "        send_reply(email_to_reply[\"from\"], email_to_reply[\"subject\"], reply_content)\n",
        "        return reply_content\n",
        "\n",
        "    interface = gr.Interface(fn=process_selected_email, inputs=selected_email, outputs=\"text\", title=\"Email Auto-Reply System\")\n",
        "    return interface\n",
        "\n",
        "if __name__ == \"__main__\":\n",
        "    interface = email_interface()\n",
        "    interface.launch()\n"
      ]
    },
    {
      "cell_type": "markdown",
      "source": [
        "# Use this Main functions"
      ],
      "metadata": {
        "id": "2hoGGRkQCd5y"
      }
    },
    {
      "cell_type": "code",
      "source": [
        "import gradio as gr\n",
        "import smtplib\n",
        "from email.message import EmailMessage\n",
        "import os\n",
        "from dotenv import load_dotenv\n",
        "\n",
        "# Load environment variables\n",
        "load_dotenv(dotenv_path=\"pass.env\")\n",
        "\n",
        "# Email credentials\n",
        "email_user = os.getenv(\"EMAIL_USER\")\n",
        "email_pass = os.getenv(\"EMAIL_PASS\")\n",
        "smtp_host = \"smtp.gmail.com\"\n",
        "\n",
        "def send_email_with_attachments(to_email, subject, body_content, attachments=[]):\n",
        "    \"\"\"\n",
        "    Function to send an email with the given subject, body content, and optional attachments.\n",
        "    \"\"\"\n",
        "    try:\n",
        "        # Create an email message\n",
        "        msg = EmailMessage()\n",
        "        msg[\"From\"] = email_user\n",
        "        msg[\"To\"] = to_email\n",
        "        msg[\"Subject\"] = subject\n",
        "        msg.set_content(body_content)\n",
        "\n",
        "        # Add attachments if any\n",
        "        for file_path in attachments:\n",
        "            with open(file_path.name, \"rb\") as file:\n",
        "                file_data = file.read()\n",
        "                file_name = os.path.basename(file_path.name)\n",
        "                msg.add_attachment(file_data, maintype=\"application\", subtype=\"octet-stream\", filename=file_name)\n",
        "\n",
        "        # Send the email\n",
        "        with smtplib.SMTP_SSL(smtp_host, 465) as server:\n",
        "            server.login(email_user, email_pass)\n",
        "            server.send_message(msg)\n",
        "            return f\"Email sent successfully to {to_email}.\"\n",
        "    except Exception as e:\n",
        "        return f\"Error sending email: {str(e)}\"\n",
        "\n",
        "# Gradio interface\n",
        "def gradio_email_interface(to_email, subject, body_content, attachments):\n",
        "    return send_email_with_attachments(to_email, subject, body_content, attachments)\n",
        "\n",
        "# Create Gradio interface\n",
        "interface = gr.Interface(\n",
        "    fn=gradio_email_interface,\n",
        "    inputs=[\n",
        "        gr.Textbox(label=\"Recipient Email\", placeholder=\"Enter recipient's email\"),\n",
        "        gr.Textbox(label=\"Subject\", placeholder=\"Enter email subject\"),\n",
        "        gr.Textbox(label=\"Message Content\", placeholder=\"Type your email content here...\"),\n",
        "        gr.Files(label=\"Attachments (optional)\")\n",
        "    ],\n",
        "    outputs=\"text\",\n",
        "    title=\"Email Sender\",\n",
        "    description=\"Send emails with optional attachments using Gradio.\"\n",
        ")\n",
        "\n",
        "# Launch the interface\n",
        "if __name__ == \"__main__\":\n",
        "    interface.launch()\n"
      ],
      "metadata": {
        "colab": {
          "base_uri": "https://localhost:8080/",
          "height": 645
        },
        "id": "XrbL__Z3BCN8",
        "outputId": "003260b6-0827-4e3c-c943-d872307926e2"
      },
      "execution_count": 11,
      "outputs": [
        {
          "output_type": "stream",
          "name": "stdout",
          "text": [
            "Running Gradio in a Colab notebook requires sharing enabled. Automatically setting `share=True` (you can turn this off by setting `share=False` in `launch()` explicitly).\n",
            "\n",
            "Colab notebook detected. To show errors in colab notebook, set debug=True in launch()\n",
            "* Running on public URL: https://adc91eb950d14017ea.gradio.live\n",
            "\n",
            "This share link expires in 72 hours. For free permanent hosting and GPU upgrades, run `gradio deploy` from the terminal in the working directory to deploy to Hugging Face Spaces (https://huggingface.co/spaces)\n"
          ]
        },
        {
          "output_type": "display_data",
          "data": {
            "text/plain": [
              "<IPython.core.display.HTML object>"
            ],
            "text/html": [
              "<div><iframe src=\"https://adc91eb950d14017ea.gradio.live\" width=\"100%\" height=\"500\" allow=\"autoplay; camera; microphone; clipboard-read; clipboard-write;\" frameborder=\"0\" allowfullscreen></iframe></div>"
            ]
          },
          "metadata": {}
        }
      ]
    }
  ]
}
